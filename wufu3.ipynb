{
 "cells": [
  {
   "cell_type": "code",
   "execution_count": 17,
   "metadata": {
    "collapsed": false
   },
   "outputs": [
    {
     "name": "stdout",
     "output_type": "stream",
     "text": [
      "completed\n"
     ]
    }
   ],
   "source": [
    "# -*- coding: utf-8 -*-\n",
    "import requests\n",
    "from bs4 import BeautifulSoup\n",
    "res = requests.get('http://www.lifetour.com.tw/Oversea/SelectOversea.aspx?FROM_CD=&PORT_CD=&CITY_CD=0001-0003&days=&price=&SDATE=2016/07/18&EDATE=2016/10/18&order=1&after=1')\n",
    "soup = BeautifulSoup(res.text)\n",
    "\n",
    "for ent in soup.select('#gr_SearchItem'):\n",
    "        prodNo = \"\".join(ent.select('td')[2].text.strip().split()).split(\"-\")[0]\n",
    "        title = \"\".join(ent.select('td')[2].text.strip().split()).split(\"-\")[1]\n",
    "        url = 'http://www.lifetour.com.tw/Oversea/' +ent.select('a')[0]['href'] \n",
    "        res2 = requests.get(url)\n",
    "        soup2 = BeautifulSoup(res2.text)\n",
    "        #print prodNo\n",
    "        with open('D:/wufu/' + prodNo + \".txt\", \"w\") as f :\n",
    "        \n",
    "            for ent2 in soup2.select('#group_wrap .group_day_Title'):\n",
    "                tour={}\n",
    "                tour = ent2.select('h2')[0].text\n",
    "                #print tour \n",
    "                f.write(tour.encode('utf8'))\n",
    "print 'completed'\n"
   ]
  },
  {
   "cell_type": "code",
   "execution_count": null,
   "metadata": {
    "collapsed": true
   },
   "outputs": [],
   "source": []
  }
 ],
 "metadata": {
  "kernelspec": {
   "display_name": "Python 2",
   "language": "python",
   "name": "python2"
  },
  "language_info": {
   "codemirror_mode": {
    "name": "ipython",
    "version": 2
   },
   "file_extension": ".py",
   "mimetype": "text/x-python",
   "name": "python",
   "nbconvert_exporter": "python",
   "pygments_lexer": "ipython2",
   "version": "2.7.11"
  }
 },
 "nbformat": 4,
 "nbformat_minor": 0
}
