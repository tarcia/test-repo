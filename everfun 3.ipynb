{
 "cells": [
  {
   "cell_type": "code",
   "execution_count": 30,
   "metadata": {
    "collapsed": false
   },
   "outputs": [
    {
     "name": "stdout",
     "output_type": "stream",
     "text": [
      "completed\n"
     ]
    }
   ],
   "source": [
    "import requests\n",
    "from bs4 import BeautifulSoup\n",
    "\n",
    "\n",
    "payload={\n",
    "'airportCode[]':'OSA,JPN,OSF,OSN,OST',\n",
    "'airportCode[]':'OSA,JPN,TYF,TYK,TYS,FSZ,TYO',\n",
    "'searchKeyword':'',\n",
    "'searchDate':'2016/07/18',\n",
    "'Page':'4',\n",
    "'Row':'100',\n",
    "'_token':'lrjQuiCwyQqmlw9uXJP8QT5mzenliKcJT1QRgXP2',\n",
    "'order':'date-asc',\n",
    "'listType':'list'\n",
    "}\n",
    "#filters to get Kanto and Kansai's tour \n",
    "res = requests.post('https://www.everfuntravel.com/GroupTravel/Search', data=payload, headers=headers)\n",
    "soup=BeautifulSoup(res.text, \"lxml\")\n",
    "d=0\n",
    "for ent in soup.select('tbody .font--left'):\n",
    "    prodNo = ent.select('a')[0]['href'].split('/')[2]\n",
    "    #print prodNo\n",
    "    with open('D:/everfun/' + prodNo + \".txt\", \"w\") as f :\n",
    "        url = 'https://www.everfuntravel.com/GroupTravel/'+prodNo\n",
    "        res3 = requests.get(url)\n",
    "        soup3 = BeautifulSoup(res3.text)\n",
    "        for itinerary in soup3.select('.itinerary__main'):\n",
    "            its = itinerary.select('.itinerary__name')\n",
    "            for i in its:\n",
    "                tour=i.text\n",
    "                #print tour\n",
    "                f.write(tour.encode('utf8'))\n",
    "                \n",
    "print 'completed'\n",
    "    \n",
    "    "
   ]
  },
  {
   "cell_type": "code",
   "execution_count": null,
   "metadata": {
    "collapsed": true
   },
   "outputs": [],
   "source": []
  }
 ],
 "metadata": {
  "kernelspec": {
   "display_name": "Python 2",
   "language": "python",
   "name": "python2"
  },
  "language_info": {
   "codemirror_mode": {
    "name": "ipython",
    "version": 2
   },
   "file_extension": ".py",
   "mimetype": "text/x-python",
   "name": "python",
   "nbconvert_exporter": "python",
   "pygments_lexer": "ipython2",
   "version": "2.7.11"
  }
 },
 "nbformat": 4,
 "nbformat_minor": 0
}
