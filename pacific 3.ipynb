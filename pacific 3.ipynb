{
 "cells": [
  {
   "cell_type": "code",
   "execution_count": 3,
   "metadata": {
    "collapsed": false
   },
   "outputs": [
    {
     "name": "stdout",
     "output_type": "stream",
     "text": [
      "completed\n"
     ]
    }
   ],
   "source": [
    "#kanto\n",
    "import requests\n",
    "from bs4 import BeautifulSoup\n",
    "\n",
    "payload={\n",
    "'search_chk':'1',\n",
    "'GSEARCH_MGRP_FG':'0',\n",
    "'TVL_AREA':'0005',\n",
    "'AMRNK':'1',\n",
    "'TVL_DAREA':'0005',\n",
    "'TVL_SAREA':'',\n",
    "'FROM_CD':'',\n",
    "'AIR_PT':'',\n",
    "'SEL_TKT_BDL':'2016/07/18',\n",
    "'SEL_TKT_EDL':'2016/10/16',\n",
    "'t_days':'',\n",
    "'bodjet':'',\n",
    "'CARR_CD':'',\n",
    "'ikeyword':'',\n",
    "'AllowJoin':'1',\n",
    "'hITN_AREA':'',\n",
    "'hITN_NATN':'',\n",
    "'hITN_CITY':'',\n",
    "'TWFG':'N',\n",
    "'frm':'searcheng'}\n",
    "res = requests.post('http://cowell.pac-group.net/eWeb/GO/L_GO_List_ASP.asp', data=payload)\n",
    "soup=BeautifulSoup(res.text)\n",
    "\n",
    "for ent in soup.select('.go-contant-table tr')[1: ]:\n",
    "    url='http://cowell.pac-group.net/'+ent.select('td a')[0]['href'] \n",
    "    prodNo1 = url.split('&')[0].split('MGRUP_CD=')[1]\n",
    "    prodNo2 = url.split('&')[1].split('GRUP_CD=')[1]\n",
    "    #print prodNo1, prodNo2\n",
    "    with open('D:/pacific/' + prodNo1 +\" \"+ prodNo2 + \".txt\", \"w\") as f :\n",
    "        res2 = requests.get(url)\n",
    "        soup2 = BeautifulSoup(res2.text)\n",
    "    \n",
    "        for ent2 in soup2.select('.Q'):\n",
    "            tour={}\n",
    "            tour=ent2.select('.go-everyday-td02')[0].text\n",
    "            #print tour\n",
    "            f.write(tour.encode('utf8'))\n",
    "print 'completed'"
   ]
  },
  {
   "cell_type": "code",
   "execution_count": 5,
   "metadata": {
    "collapsed": false
   },
   "outputs": [
    {
     "name": "stdout",
     "output_type": "stream",
     "text": [
      "completed\n"
     ]
    }
   ],
   "source": [
    "#kansai\n",
    "import requests\n",
    "from bs4 import BeautifulSoup\n",
    "\n",
    "payload={\n",
    "'GSEARCH_MGRP_FG':'0',\n",
    "'iOrdBy':'出發日期',\n",
    "'REF_AMRNK':'1',\n",
    "'AMRNK':'1',\n",
    "'frm':'出發日期',\n",
    "'iKeyIdx':'',\n",
    "'iPage':'2',\n",
    "'hITN_AREA':'',\n",
    "'hITN_NATN':'',\n",
    "'hITN_CITY':'',\n",
    "'CARR_CD':'',\n",
    "'t_days':'',\n",
    "'bodjet':'',\n",
    "'ITN_RK':'',\n",
    "'iBITN':'',\n",
    "'iGAREA':'',\n",
    "'loc':'',\n",
    "'JOIN_TP':'1',\n",
    "'AIR_PT':'',\n",
    "'ITN_RK_4P':'',\n",
    "'LEAV_CITY':'',\n",
    "'SEL_TKT_BDL':'2016/07/18',\n",
    "'SEL_TKT_EDL':'2016/10/16',\n",
    "'AllowJoin':'1',\n",
    "'AllowWait':'',\n",
    "'SEL_MGRUP_CD':'',\n",
    "'TVL_AREA':'0007',\n",
    "'search_chk':'1',\n",
    "'TVL_DAREA':'0007',\n",
    "'TVL_SAREA':'',\n",
    "'ikeyword':'',\n",
    "'select':'1',\n",
    "'page':''}\n",
    "res = requests.post('http://cowell.pac-group.net/eWeb/GO/L_GO_List_ASP.asp', data=payload)\n",
    "soup=BeautifulSoup(res.text)\n",
    "\n",
    "for ent in soup.select('.go-contant-table tr')[1: ]:\n",
    "    url='http://cowell.pac-group.net/'+ent.select('td a')[0]['href'] \n",
    "    prodNo1 = url.split('&')[0].split('MGRUP_CD=')[1]\n",
    "    prodNo2 = url.split('&')[1].split('GRUP_CD=')[1]\n",
    "    #print prodNo1, prodNo2\n",
    "    with open('D:/pacific/' + prodNo1 +\" \"+ prodNo2 + \".txt\", \"w\") as f :\n",
    "        res2 = requests.get(url)\n",
    "        soup2 = BeautifulSoup(res2.text)\n",
    "    \n",
    "        for ent2 in soup2.select('.Q'):\n",
    "            tour={}\n",
    "            tour=ent2.select('.go-everyday-td02')[0].text\n",
    "            #print tour\n",
    "            f.write(tour.encode('utf8'))\n",
    "print 'completed'"
   ]
  },
  {
   "cell_type": "code",
   "execution_count": null,
   "metadata": {
    "collapsed": true
   },
   "outputs": [],
   "source": []
  }
 ],
 "metadata": {
  "kernelspec": {
   "display_name": "Python 2",
   "language": "python",
   "name": "python2"
  },
  "language_info": {
   "codemirror_mode": {
    "name": "ipython",
    "version": 2
   },
   "file_extension": ".py",
   "mimetype": "text/x-python",
   "name": "python",
   "nbconvert_exporter": "python",
   "pygments_lexer": "ipython2",
   "version": "2.7.11"
  }
 },
 "nbformat": 4,
 "nbformat_minor": 0
}
